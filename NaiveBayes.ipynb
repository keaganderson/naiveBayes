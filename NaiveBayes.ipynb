{
 "cells": [
  {
   "cell_type": "markdown",
   "id": "8f168331",
   "metadata": {},
   "source": [
    "<h2>Importing Libraries and Data</h2>"
   ]
  },
  {
   "cell_type": "code",
   "execution_count": 6,
   "id": "81eb3830",
   "metadata": {},
   "outputs": [],
   "source": [
    "#Imports\n",
    "import pandas as pd\n",
    "from sklearn.model_selection import train_test_split\n",
    "from sklearn import preprocessing\n",
    "import statistics\n",
    "from math import sqrt\n",
    "from math import pi\n",
    "from math import exp\n",
    "from sklearn.metrics import ConfusionMatrixDisplay\n",
    "from sklearn.metrics import confusion_matrix\n",
    "from sklearn import datasets, metrics, model_selection, svm\n",
    "import scikitplot as skplt\n",
    "import matplotlib.pyplot as plt"
   ]
  },
  {
   "cell_type": "code",
   "execution_count": 7,
   "id": "6f56d230",
   "metadata": {},
   "outputs": [],
   "source": [
    "#Reading CSV Files\n",
    "mainFile = 'spambase.csv'\n",
    "df = pd.read_csv(mainFile)"
   ]
  },
  {
   "cell_type": "code",
   "execution_count": 8,
   "id": "2d8ed999",
   "metadata": {},
   "outputs": [],
   "source": [
    "# Train / Test Split\n",
    "\n",
    "train = df.drop(columns=['class'])\n",
    "results = df['class']\n",
    "X_train,X_test,y_train,y_test=train_test_split(train,results,test_size=0.25,random_state=0)"
   ]
  },
  {
   "cell_type": "markdown",
   "id": "95a605c5",
   "metadata": {},
   "source": [
    "<h2>Data Processing</h2>"
   ]
  },
  {
   "cell_type": "code",
   "execution_count": 9,
   "id": "de497bc3",
   "metadata": {
    "scrolled": true
   },
   "outputs": [],
   "source": [
    "# Preprocessing / Normalizing\n",
    "min_max_scaler = preprocessing.MinMaxScaler()\n",
    "X_train_scaled = min_max_scaler.fit_transform(X_train)\n",
    "X_test_scaled = min_max_scaler.transform(X_test)"
   ]
  },
  {
   "cell_type": "markdown",
   "id": "62d8f09c",
   "metadata": {},
   "source": [
    "<h2>Custom Naive Bayes Classifier</h2>"
   ]
  },
  {
   "cell_type": "code",
   "execution_count": 10,
   "id": "a8b5fe6d",
   "metadata": {},
   "outputs": [],
   "source": [
    "# Naive Bayes Class\n",
    "    \n",
    "class NaiveBayes:\n",
    "    def __init__(self):\n",
    "        self.summaries = dict()\n",
    "    \n",
    "    def getSummaries(self):\n",
    "        return self.summaries\n",
    "    \n",
    "    def predict(self, row):\n",
    "        probabilities = dict()\n",
    "        for class_value, summaries in self.summaries.items():\n",
    "            probabilities[class_value] = 1\n",
    "            for i in range(len(summaries)):\n",
    "                mean = summaries[i][0]\n",
    "                stdv = summaries[i][0]\n",
    "                if stdv != 0:\n",
    "                    temp = self._findProbability(row[i], mean, stdv)\n",
    "                    probabilities[class_value] *= temp\n",
    "        return max(probabilities, key=probabilities.get)\n",
    "    \n",
    "    def fit(self, train, goal):\n",
    "        separated = self._seperateByClass(train, goal)\n",
    "        for class_value, rows in separated.items():\n",
    "            self.summaries[class_value] = self._summarizeDataset(rows)\n",
    "        \n",
    "    def _seperateByClass(self, train, goal):\n",
    "        separated = dict()\n",
    "        for i in range(len(train)):\n",
    "            vector = train[i]\n",
    "            class_value = goal.iloc[i]\n",
    "            if (class_value not in separated):\n",
    "                separated[class_value] = list()\n",
    "            separated[class_value].append(vector)\n",
    "        return separated\n",
    "    \n",
    "    def _summarizeDataset(self, data):\n",
    "        summaries = [(sum(column)/float(len(column)), statistics.pstdev(column), len(column)) for column in zip(*data)]\n",
    "        del(summaries[-1])\n",
    "        return summaries\n",
    "    \n",
    "    def _findProbability(self, value, mean, stdev):\n",
    "        exponent = exp(-((value-mean)**2 / (2 * stdev**2 )))\n",
    "        return (1 / (sqrt(2 * pi) * stdev)) * exponent\n",
    "        "
   ]
  },
  {
   "cell_type": "code",
   "execution_count": 11,
   "id": "98f65dc0",
   "metadata": {},
   "outputs": [],
   "source": [
    "nb = NaiveBayes()\n",
    "nb.fit(X_train_scaled, y_train)\n",
    "summary = nb.getSummaries()\n",
    "TN = 0\n",
    "FP = 0\n",
    "FN = 0\n",
    "TP = 0\n",
    "y_predicted = []\n",
    "for i in range(len(X_test_scaled)):\n",
    "    temp = nb.predict(X_test_scaled[i])\n",
    "    y_predicted.append(temp)\n",
    "    if temp == 0 and y_test.iloc[i] == 0:\n",
    "        TP += 1\n",
    "    elif temp == 0 and y_test.iloc[i] == 1:\n",
    "        FP += 1\n",
    "    elif temp == 1 and y_test.iloc[i] == 1:\n",
    "        TN += 1\n",
    "    else:\n",
    "        FN += 1"
   ]
  },
  {
   "cell_type": "markdown",
   "id": "a5663279",
   "metadata": {},
   "source": [
    "<h2>Analysis of Words Used</h2>"
   ]
  },
  {
   "cell_type": "code",
   "execution_count": 12,
   "id": "6438fd1f",
   "metadata": {},
   "outputs": [
    {
     "data": {
      "image/png": "[encoded data removed]",
      "text/plain": [
       "<Figure size 432x288 with 2 Axes>"
      ]
     },
     "metadata": {
      "needs_background": "light"
     },
     "output_type": "display_data"
    }
   ],
   "source": [
    "# Print Histogram of Spam\n",
    "tempDF = pd.DataFrame(summary[0], columns=['mean', 'stdv', 'num'])\n",
    "tempDF = tempDF.drop(columns=['num'])\n",
    "hist = tempDF.hist()"
   ]
  },
  {
   "cell_type": "code",
   "execution_count": 13,
   "id": "b4dcccc1",
   "metadata": {},
   "outputs": [
    {
     "name": "stdout",
     "output_type": "stream",
     "text": [
      "18\n",
      "26\n"
     ]
    }
   ],
   "source": [
    "# Max Influence Numbers\n",
    "print(tempDF['mean'].idxmax())\n",
    "print(tempDF['stdv'].idxmax())"
   ]
  },
  {
   "cell_type": "markdown",
   "id": "5fe92599",
   "metadata": {},
   "source": [
    "<h4>This shows the columns with the greatest means and standard deviations which were \"word_freq_you\" and \"word_freq_hpl\" respectively for Spam emails</h4>"
   ]
  },
  {
   "cell_type": "code",
   "execution_count": 14,
   "id": "e0b691b3",
   "metadata": {},
   "outputs": [
    {
     "data": {
      "image/png": "[encoded data removed]",
      "text/plain": [
       "<Figure size 432x288 with 2 Axes>"
      ]
     },
     "metadata": {
      "needs_background": "light"
     },
     "output_type": "display_data"
    }
   ],
   "source": [
    "# Print Histogram of Ham\n",
    "tempDF = pd.DataFrame(summary[1], columns=['mean', 'stdv', 'num'])\n",
    "tempDF = tempDF.drop(columns=['num'])\n",
    "hist = tempDF.hist()"
   ]
  },
  {
   "cell_type": "code",
   "execution_count": 15,
   "id": "46f6e14a",
   "metadata": {},
   "outputs": [
    {
     "name": "stdout",
     "output_type": "stream",
     "text": [
      "20\n",
      "20\n"
     ]
    }
   ],
   "source": [
    "print(tempDF['mean'].idxmax())\n",
    "print(tempDF['stdv'].idxmax())"
   ]
  },
  {
   "cell_type": "markdown",
   "id": "0c16cd31",
   "metadata": {},
   "source": [
    "<h4>In the case of non-spam emails the max mean and standard deviation belonged to the same column of \"word_freq_your\"</h4>"
   ]
  },
  {
   "cell_type": "markdown",
   "id": "9c2998fa",
   "metadata": {},
   "source": [
    "<h2>Confusion Matrix and Auc / Roc Plot</h2>"
   ]
  },
  {
   "cell_type": "code",
   "execution_count": 16,
   "id": "15538217",
   "metadata": {},
   "outputs": [
    {
     "data": {
      "text/plain": [
       "<sklearn.metrics._plot.confusion_matrix.ConfusionMatrixDisplay at 0x1e65c821340>"
      ]
     },
     "execution_count": 16,
     "metadata": {},
     "output_type": "execute_result"
    },
    {
     "data": {
      "image/png": "[encoded data removed]",
      "text/plain": [
       "<Figure size 432x288 with 2 Axes>"
      ]
     },
     "metadata": {
      "needs_background": "light"
     },
     "output_type": "display_data"
    }
   ],
   "source": [
    "# Confusion Matrix\n",
    "plot = ConfusionMatrixDisplay(confusion_matrix(y_test, y_predicted))\n",
    "plot.plot()"
   ]
  },
  {
   "cell_type": "code",
   "execution_count": 12,
   "id": "4b7161c4",
   "metadata": {},
   "outputs": [
    {
     "name": "stdout",
     "output_type": "stream",
     "text": [
      "Accuracy is 0.7688966116420504\n",
      "Precision is 0.9207920792079208\n",
      "Recall is 0.6729377713458755\n"
     ]
    }
   ],
   "source": [
    "# Compute from the Confusion Matrix\n",
    "total = TP + TN + FN + FP\n",
    "print(\"Accuracy is \" + str((TP + TN )/total))\n",
    "print(\"Precision is \" + str(TP / (TP + FP)))\n",
    "print(\"Recall is \" + str(TP / (TP + FN)))"
   ]
  },
  {
   "cell_type": "code",
   "execution_count": 13,
   "id": "284da486",
   "metadata": {},
   "outputs": [
    {
     "data": {
      "image/png": "[encoded data removed]",
      "text/plain": [
       "<Figure size 432x288 with 1 Axes>"
      ]
     },
     "metadata": {
      "needs_background": "light"
     },
     "output_type": "display_data"
    }
   ],
   "source": [
    "# Auc / Roc Plot\n",
    "fpr, tpr, _ = metrics.roc_curve(y_test, y_predicted)\n",
    "auc = metrics.roc_auc_score(y_test, y_predicted)\n",
    "plt.plot(fpr,tpr,label=\"data 1, auc=\"+str(auc))\n",
    "plt.legend(loc=4)\n",
    "plt.show()"
   ]
  },
  {
   "cell_type": "code",
   "execution_count": null,
   "id": "4b4aaab2",
   "metadata": {},
   "outputs": [],
   "source": []
  }
 ],
 "metadata": {
  "kernelspec": {
   "display_name": "Python 3 (ipykernel)",
   "language": "python",
   "name": "python3"
  },
  "language_info": {
   "codemirror_mode": {
    "name": "ipython",
    "version": 3
   },
   "file_extension": ".py",
   "mimetype": "text/x-python",
   "name": "python",
   "nbconvert_exporter": "python",
   "pygments_lexer": "ipython3",
   "version": "3.8.8"
  }
 },
 "nbformat": 4,
 "nbformat_minor": 5
}
